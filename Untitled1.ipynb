{
  "nbformat": 4,
  "nbformat_minor": 0,
  "metadata": {
    "colab": {
      "provenance": [],
      "authorship_tag": "ABX9TyNBGCH/gC4PgJtSX1tCHS96",
      "include_colab_link": true
    },
    "kernelspec": {
      "name": "python3",
      "display_name": "Python 3"
    },
    "language_info": {
      "name": "python"
    }
  },
  "cells": [
    {
      "cell_type": "markdown",
      "metadata": {
        "id": "view-in-github",
        "colab_type": "text"
      },
      "source": [
        "<a href=\"https://colab.research.google.com/github/plorantina/Pemerograman-Dasar/blob/main/Untitled1.ipynb\" target=\"_parent\"><img src=\"https://colab.research.google.com/assets/colab-badge.svg\" alt=\"Open In Colab\"/></a>"
      ]
    },
    {
      "cell_type": "code",
      "execution_count": 13,
      "metadata": {
        "colab": {
          "base_uri": "https://localhost:8080/"
        },
        "id": "zcbjrV24rTYD",
        "outputId": "77e17a49-af05-4836-9a18-38f4df21a319"
      },
      "outputs": [
        {
          "output_type": "stream",
          "name": "stdout",
          "text": [
            "=== BIODATA MAHASISWA ===\n",
            "Nama           : Tasya\n",
            "Umur           : 20\n",
            "Semester       : 3\n",
            "Jurusan        : TRPE\n",
            "Mata Kuliah    : Pemrograman Dasar\n",
            "Status Kuliah  : False\n"
          ]
        }
      ],
      "source": [
        "#Program Sederhana Annotation\n",
        "\n",
        "# Annotation pada variabel\n",
        "nama: str = \"Tasya\"\n",
        "umur: int = 20\n",
        "semester: int = 3\n",
        "jurusan: str = \"TRPE\"\n",
        "mata_kuliah: str = \"Pemrograman Dasar\"\n",
        "status_kuliah: bool = False\n",
        "\n",
        "# Annotation pada fungsi\n",
        "def cetak_biodata(nama: str, umur: int, semester: int, jurusan: str, mata_kuliah: str, aktif: bool) -> None:\n",
        "    \"\"\"Fungsi untuk menampilkan biodata\"\"\"\n",
        "    print(\"=== BIODATA MAHASISWA ===\")\n",
        "    print(\"Nama           :\", nama)\n",
        "    print(\"Umur           :\", umur)\n",
        "    print(\"Semester       :\", semester)\n",
        "    print(\"Jurusan        :\", jurusan)\n",
        "    print(\"Mata Kuliah    :\", mata_kuliah)\n",
        "    print(\"Status Kuliah  :\", aktif)\n",
        "\n",
        "# Panggil fungsi\n",
        "cetak_biodata(nama, umur, semester, jurusan, mata_kuliah, status_kuliah)"
      ]
    }
  ]
}