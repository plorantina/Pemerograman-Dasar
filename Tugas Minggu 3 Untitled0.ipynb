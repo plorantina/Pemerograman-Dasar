{
  "nbformat": 4,
  "nbformat_minor": 0,
  "metadata": {
    "colab": {
      "provenance": [],
      "authorship_tag": "ABX9TyPJc6cuCmCnjvGNfJtxnreM",
      "include_colab_link": true
    },
    "kernelspec": {
      "name": "python3",
      "display_name": "Python 3"
    },
    "language_info": {
      "name": "python"
    }
  },
  "cells": [
    {
      "cell_type": "markdown",
      "metadata": {
        "id": "view-in-github",
        "colab_type": "text"
      },
      "source": [
        "<a href=\"https://colab.research.google.com/github/plorantina/Pemerograman-Dasar/blob/main/Tugas%20Minggu%203%20Untitled0.ipynb\" target=\"_parent\"><img src=\"https://colab.research.google.com/assets/colab-badge.svg\" alt=\"Open In Colab\"/></a>"
      ]
    },
    {
      "cell_type": "code",
      "source": [
        "# Minggu 3 (Tugas 1)\n",
        "# Program Kasir Sederhana (dengan persen diskon)\n",
        "# Input subtotal & status member\n",
        "subtotal = int(input(\"Masukkan subtotal belanja: Rp \"))\n",
        "member = input(\"Apakah pelanggan anggota? (ya/tidak): \").lower() == \"ya\"\n",
        "\n",
        "# Tentukan persen diskon (15% jika syarat terpenuhi, kalau tidak 0%)\n",
        "persen_diskon = 15 * (member and subtotal > 100000)\n",
        "\n",
        "# Hitung diskon\n",
        "diskon = subtotal * persen_diskon / 100\n",
        "harga_setelah_diskon = subtotal - diskon\n",
        "\n",
        "# Hitung PPN dan total\n",
        "ppn = 0.11 * harga_setelah_diskon\n",
        "total = harga_setelah_diskon + ppn\n",
        "\n",
        "# Output\n",
        "print(f\"Subtotal        : Rp {subtotal:,.0f}\")\n",
        "print(f\"Diskon (%)      : {persen_diskon}%\")\n",
        "print(f\"Diskon (Rp)     : Rp {diskon:,.0f}\")\n",
        "print(f\"Setelah Diskon  : Rp {harga_setelah_diskon:,.0f}\")\n",
        "print(f\"PPN (11%)       : Rp {ppn:,.0f}\")\n",
        "print(f\"Total Bayar     : Rp {total:,.0f}\")\n"
      ],
      "metadata": {
        "colab": {
          "base_uri": "https://localhost:8080/"
        },
        "id": "5Bl5ODRj2XpY",
        "outputId": "586daf99-dcb2-4ffb-8a82-2944fecc3fe2"
      },
      "execution_count": 9,
      "outputs": [
        {
          "output_type": "stream",
          "name": "stdout",
          "text": [
            "Masukkan subtotal belanja: Rp 150000\n",
            "Apakah pelanggan anggota? (ya/tidak): ya\n",
            "Subtotal        : Rp 150,000\n",
            "Diskon (%)      : 15%\n",
            "Diskon (Rp)     : Rp 22,500\n",
            "Setelah Diskon  : Rp 127,500\n",
            "PPN (11%)       : Rp 14,025\n",
            "Total Bayar     : Rp 141,525\n"
          ]
        }
      ]
    }
  ]
}