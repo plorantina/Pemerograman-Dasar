{
  "nbformat": 4,
  "nbformat_minor": 0,
  "metadata": {
    "colab": {
      "provenance": [],
      "authorship_tag": "ABX9TyM/TAZIfOjXx4brTi7+Novr",
      "include_colab_link": true
    },
    "kernelspec": {
      "name": "python3",
      "display_name": "Python 3"
    },
    "language_info": {
      "name": "python"
    }
  },
  "cells": [
    {
      "cell_type": "markdown",
      "metadata": {
        "id": "view-in-github",
        "colab_type": "text"
      },
      "source": [
        "<a href=\"https://colab.research.google.com/github/plorantina/Pemerograman-Dasar/blob/main/Tugas%20Pertemuan%206%20Untitled0.ipynb\" target=\"_parent\"><img src=\"https://colab.research.google.com/assets/colab-badge.svg\" alt=\"Open In Colab\"/></a>"
      ]
    },
    {
      "cell_type": "code",
      "execution_count": 1,
      "metadata": {
        "id": "Vi1RGb3QniZX",
        "colab": {
          "base_uri": "https://localhost:8080/"
        },
        "outputId": "24b806b5-eb4e-4ba9-c495-0123d9421b09"
      },
      "outputs": [
        {
          "output_type": "stream",
          "name": "stdout",
          "text": [
            "Berapa banyak pengguna yang ingin dimasukkan? 2\n",
            "\n",
            "Data ke-1:\n",
            "Masukkan nama: syasya\n",
            "Masukkan umur: 14\n",
            "\n",
            "Data ke-2:\n",
            "Masukkan nama: tasya\n",
            "Masukkan umur: 20\n",
            "\n",
            "=== Daftar Pengguna ===\n",
            "Nama: syasya, Umur: 14, Status: Remaja\n",
            "Nama: tasya, Umur: 20, Status: Dewasa\n",
            "\n",
            "=== Data Ringkas ===\n",
            "Jumlah nama unik: 2\n",
            "Pengguna Dewasa: ['tasya']\n"
          ]
        }
      ],
      "source": [
        "# Tugas\n",
        "def data_pengguna():\n",
        "    # --- Tipe Data Non-Primitif ---\n",
        "    pengguna = []          # Tipe data list\n",
        "    data_unik = set()      # Tipe data set\n",
        "    hasil_akhir = {}       # Tipe data dictionary\n",
        "\n",
        "    # --- Tipe Data Primitif ---\n",
        "    jumlah = int(input(\"Berapa banyak pengguna yang ingin dimasukkan? \")) # Tipe data int\n",
        "\n",
        "    # --- Perulangan While ---\n",
        "    hitung = 0\n",
        "    while hitung < jumlah:\n",
        "        print(f\"\\nData ke-{hitung+1}:\")\n",
        "        nama = input(\"Masukkan nama: \")\n",
        "        umur = int(input(\"Masukkan umur: \")) # Tipe data int\n",
        "\n",
        "        # Percabangan If-Elif-Else (cek kategori umur)\n",
        "        if umur >= 17:\n",
        "            status = \"Dewasa\"\n",
        "        elif umur >= 13:\n",
        "            status = \"Remaja\"\n",
        "        else:\n",
        "            status = \"Anak-anak\"\n",
        "\n",
        "        # Simpan data ke dalam list (pakai tuple)\n",
        "        pengguna.append((nama, umur, status))\n",
        "        data_unik.add(nama)\n",
        "        hitung += 1\n",
        "\n",
        "    # --- Perulangan For untuk menampilkan hasil ---\n",
        "    print(\"\\n=== Daftar Pengguna ===\")\n",
        "    for nama, umur, status in pengguna:\n",
        "        print(f\"Nama: {nama}, Umur: {umur}, Status: {status}\")\n",
        "\n",
        "        # Tambahkan ke dictionary hasil akhir jika dewasa\n",
        "        if status == \"Dewasa\":\n",
        "            hasil_akhir[nama] = True  # boolean: True = Dewasa\n",
        "        else:\n",
        "            hasil_akhir[nama] = False # boolean: False = Belum dewasa\n",
        "\n",
        "    print(\"\\n=== Data Ringkas ===\")\n",
        "    print(\"Jumlah nama unik:\", len(data_unik))\n",
        "    print(\"Pengguna Dewasa:\", [n for n, s in hasil_akhir.items() if s])\n",
        "\n",
        "# Panggil fungsi\n",
        "data_pengguna()\n"
      ]
    }
  ]
}