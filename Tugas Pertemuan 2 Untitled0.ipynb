{
  "nbformat": 4,
  "nbformat_minor": 0,
  "metadata": {
    "colab": {
      "provenance": [],
      "authorship_tag": "ABX9TyOI9J/bi44TccEsvQ8wV76a",
      "include_colab_link": true
    },
    "kernelspec": {
      "name": "python3",
      "display_name": "Python 3"
    },
    "language_info": {
      "name": "python"
    }
  },
  "cells": [
    {
      "cell_type": "markdown",
      "metadata": {
        "id": "view-in-github",
        "colab_type": "text"
      },
      "source": [
        "<a href=\"https://colab.research.google.com/github/plorantina/Pemerograman-Dasar/blob/main/Tugas%20Pertemuan%202%20Untitled0.ipynb\" target=\"_parent\"><img src=\"https://colab.research.google.com/assets/colab-badge.svg\" alt=\"Open In Colab\"/></a>"
      ]
    },
    {
      "cell_type": "code",
      "execution_count": 4,
      "metadata": {
        "colab": {
          "base_uri": "https://localhost:8080/"
        },
        "id": "JlbL6v8Q31K1",
        "outputId": "5043bd4a-6cc1-4cee-e399-182267d7ad99"
      },
      "outputs": [
        {
          "output_type": "stream",
          "name": "stdout",
          "text": [
            "Nama depan     : Tasya\n",
            "Nama belakang  : Plorantina\n",
            "Umur           : 20\n",
            "Status menikah : False\n"
          ]
        }
      ],
      "source": [
        "#Tugas 1\n",
        "# Membuat Variabel\n",
        "firstName : str  = \"Tasya\"\n",
        "lastName  : str  = \"Plorantina\"\n",
        "age       : int  = 20\n",
        "isMarried : bool = False\n",
        "\n",
        "# cek hasilnya\n",
        "print(\"Nama depan     :\", firstName )\n",
        "print(\"Nama belakang  :\", lastName  )\n",
        "print(\"Umur           :\", age       )\n",
        "print(\"Status menikah :\", isMarried )\n"
      ]
    },
    {
      "cell_type": "code",
      "source": [
        "# Tugas 2\n",
        "# Membuat dictionary data_diri\n",
        "data_diri = {\n",
        "    \"firstName\":\"Tasya\",        #str\n",
        "    \"lastName\" :\"Plorantina\",   #str\n",
        "    \"age\"      :20,             #int\n",
        "    \"isMarried\":False           #bool\n",
        "}\n",
        "\n",
        "# Menampilkan seluruh isi dictionary\n",
        "print(\"Seluruh data:\", data_diri)\n",
        "\n",
        "# Menampilkan value berdasarkan key\n",
        "print(\"Nama Depan       :\", data_diri[\"firstName\"])\n",
        "print(\"Nama Belakang    :\", data_diri[\"lastName\"])\n",
        "print(\"Umur             :\", data_diri[\"age\"])\n",
        "print(\"Status menikah   :\", data_diri[\"isMarried\"])\n"
      ],
      "metadata": {
        "colab": {
          "base_uri": "https://localhost:8080/"
        },
        "id": "94wlucjy6cnY",
        "outputId": "42ab15e0-3b7d-4cba-be47-cfc44bbf6411"
      },
      "execution_count": 8,
      "outputs": [
        {
          "output_type": "stream",
          "name": "stdout",
          "text": [
            "Seluruh data: {'firstName': 'Tasya', 'lastName': 'Plorantina', 'age': 20, 'isMarried': False}\n",
            "Nama Depan       : Tasya\n",
            "Nama Belakang    : Plorantina\n",
            "Umur             : 20\n",
            "Status menikah   : False\n"
          ]
        }
      ]
    },
    {
      "cell_type": "code",
      "source": [
        "# Tugas 3\n",
        "# Membuat variabel list untuk menyimpan daftar inspeksi\n",
        "inspeksi = [\n",
        "    \"pemahaman terhadap rencana dan desain\",\n",
        "    \"ketersediaan bahan dan peralatan\",\n",
        "    \"pengawasan pekerjaan\",\n",
        "    \"kualitas konstruksi\",\n",
        "    \"keselamatan kerja\",\n",
        "    \"koordinasi dengan pemilik proyek\"\n",
        "]\n",
        "\n",
        "# Menampilkan isi list menggunakan print\n",
        "print(\"Daftar Inspeksi Proyek:\")\n",
        "for item in inspeksi:\n",
        "    print(\"-\", item)\n"
      ],
      "metadata": {
        "colab": {
          "base_uri": "https://localhost:8080/"
        },
        "id": "lsVMGdNCB7p7",
        "outputId": "2eec5c83-0f78-4d15-a3bc-2c40058b6bdc"
      },
      "execution_count": 10,
      "outputs": [
        {
          "output_type": "stream",
          "name": "stdout",
          "text": [
            "Daftar Inspeksi Proyek:\n",
            "- pemahaman terhadap rencana dan desain\n",
            "- ketersediaan bahan dan peralatan\n",
            "- pengawasan pekerjaan\n",
            "- kualitas konstruksi\n",
            "- keselamatan kerja\n",
            "- koordinasi dengan pemilik proyek\n"
          ]
        }
      ]
    },
    {
      "cell_type": "code",
      "source": [
        "# Tugas 4\n",
        "# Membuat variabel dictionary untuk waktu datang\n",
        "startTime = {\n",
        "    \"HH\": 9,\n",
        "    \"mm\": 23,\n",
        "    \"ss\": 57\n",
        "}\n",
        "# Menampilkan Hasil Print startTime\n",
        "print(\"(Waktu Datang):\", startTime)\n",
        "print(\"starTime:\", f\"{startTime['HH']}:{startTime['mm']}:{startTime['ss']}\")\n",
        "\n",
        "\n",
        "# Membuat variabel dictionary untuk waktu pulang\n",
        "endTime   = {\n",
        "    \"HH\": 15,\n",
        "    \"mm\": 25,\n",
        "    \"ss\": 43\n",
        "}\n",
        "# Menampilkan Hasil Print endTime\n",
        "print(\"(Waktu Pulang):\", endTime)\n",
        "print(\"endTime:\", f\"{endTime['HH']}:{endTime['mm']}:{endTime['ss']}\")\n",
        "\n"
      ],
      "metadata": {
        "colab": {
          "base_uri": "https://localhost:8080/"
        },
        "id": "wqwIoSpoDQmr",
        "outputId": "76731849-ec8f-450d-d6e6-11fc476459ec"
      },
      "execution_count": 27,
      "outputs": [
        {
          "output_type": "stream",
          "name": "stdout",
          "text": [
            "(Waktu Datang): {'HH': 9, 'mm': 23, 'ss': 57}\n",
            "starTime: 9:23:57\n",
            "(Waktu Pulang): {'HH': 15, 'mm': 25, 'ss': 43}\n",
            "endTime: 15:25:43\n"
          ]
        }
      ]
    },
    {
      "cell_type": "code",
      "source": [
        "# Tugas 5\n",
        "# Katalog produk dari dua pemasok (set)\n",
        "katalog_A = {\"Pulpen\", \"Pensil\", \"Penghapus\", \"Penggaris\"}\n",
        "katalog_B = {\"Spidol\", \"Pulpen\", \"Buku Tulis\", \"Penggaris\"}\n",
        "\n",
        "# Daftar produk diskon (tuple)\n",
        "produk_diskon = (\"Pulpen\", \"Spidol\", \"Buku Tulis\")\n",
        "\n",
        "# 1. Gabungkan katalog_A dan katalog_B menjadi set katalog_lengkap\n",
        "katalog_lengkap = katalog_A.union(katalog_B)\n",
        "\n",
        "# 2. Cari produk yang ada di katalog_lengkap dan juga di produk_diskon\n",
        "produk_promo_aktif = katalog_lengkap.intersection(produk_diskon)\n",
        "\n",
        "# Menampilkan hasil\n",
        "print(\"Katalog A          :\", katalog_A)\n",
        "print(\"Katalog B          :\", katalog_B)\n",
        "print(\"Katalog Lengkap    :\", katalog_lengkap)\n",
        "print(\"Produk Diskon      :\", produk_diskon)\n",
        "print(\"Produk Promo Aktif :\", produk_promo_aktif)\n"
      ],
      "metadata": {
        "colab": {
          "base_uri": "https://localhost:8080/"
        },
        "id": "SK87WMU1KO2O",
        "outputId": "c6f83145-6a03-488e-9ace-d4f8d800a045"
      },
      "execution_count": 31,
      "outputs": [
        {
          "output_type": "stream",
          "name": "stdout",
          "text": [
            "Katalog A          : {'Pensil', 'Penggaris', 'Pulpen', 'Penghapus'}\n",
            "Katalog B          : {'Spidol', 'Penggaris', 'Pulpen', 'Buku Tulis'}\n",
            "Katalog Lengkap    : {'Spidol', 'Pulpen', 'Penghapus', 'Buku Tulis', 'Penggaris', 'Pensil'}\n",
            "Produk Diskon      : ('Pulpen', 'Spidol', 'Buku Tulis')\n",
            "Produk Promo Aktif : {'Spidol', 'Pulpen', 'Buku Tulis'}\n"
          ]
        }
      ]
    }
  ]
}