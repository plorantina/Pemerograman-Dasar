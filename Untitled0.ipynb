{
  "nbformat": 4,
  "nbformat_minor": 0,
  "metadata": {
    "colab": {
      "provenance": [],
      "authorship_tag": "ABX9TyOHBiykYlFqAcmf7udF3o8S",
      "include_colab_link": true
    },
    "kernelspec": {
      "name": "python3",
      "display_name": "Python 3"
    },
    "language_info": {
      "name": "python"
    }
  },
  "cells": [
    {
      "cell_type": "markdown",
      "metadata": {
        "id": "view-in-github",
        "colab_type": "text"
      },
      "source": [
        "<a href=\"https://colab.research.google.com/github/plorantina/Pemerograman-Dasar/blob/main/Untitled0.ipynb\" target=\"_parent\"><img src=\"https://colab.research.google.com/assets/colab-badge.svg\" alt=\"Open In Colab\"/></a>"
      ]
    },
    {
      "cell_type": "code",
      "execution_count": 48,
      "metadata": {
        "id": "AHQH-8OkKW5E",
        "colab": {
          "base_uri": "https://localhost:8080/"
        },
        "outputId": "667305bb-5227-4538-d7e6-93b6c0dfde19"
      },
      "outputs": [
        {
          "output_type": "stream",
          "name": "stdout",
          "text": [
            "=== Biodata_list ===\n",
            "Nama        : Tasya\n",
            "Umur        : 20\n",
            "Semester    : 3\n",
            "Jurusan     : TRPE\n",
            "Mata Kuliah : Pemerograman Dasar\n",
            "Status Lulus: False\n",
            "== Tuple_Biodata ==\n",
            "Nama: Tasya\n",
            "Umur: 20\n",
            "Semester: 3\n",
            "Jurusan: TRPE\n",
            "Mata Kuliah: Pemerograman\n",
            "Status Lulus: False\n",
            "\n",
            "== Set Biodata ==\n",
            "{False, 'TRPE', 3, 20, 'Tasya', 'Pemerograman'}\n",
            "\n",
            "=== Dictionary Biodata ===\n",
            "Nama : Tasya\n",
            "Umur : 20\n",
            "Semester : 3\n",
            "Jurusan : TRPE\n",
            "Mata Kuliah : Pemrograman Dasar\n",
            "Status Lulus : False\n"
          ]
        }
      ],
      "source": [
        " # Program Sederhana Biodata\n",
        " # Menggunakan Tipe data Non-Primitif (List, Tuple, Set, Dictionary)\n",
        "\n",
        " #List\n",
        " Biodata_list = [\"Tasya\", 20, 3, \"TRPE\", \"Pemerograman Dasar\", False]\n",
        "\n",
        " print(\"=== Biodata_list ===\")\n",
        " print(\"Nama        :\", Biodata_list[0])\n",
        " print(\"Umur        :\", Biodata_list[1])\n",
        " print(\"Semester    :\", Biodata_list[2])\n",
        " print(\"Jurusan     :\", Biodata_list[3])\n",
        " print(\"Mata Kuliah :\", Biodata_list[4])\n",
        " print(\"Status Lulus:\", Biodata_list[5])\n",
        "\n",
        " #Tuple\n",
        " Tuple_Biodata = (\"Tasya\", 20, 3, \"TRPE\", \"Pemerograman\", False)\n",
        "\n",
        " print(\"== Tuple_Biodata ==\")\n",
        " print(\"Nama:\", Tuple_Biodata[0])\n",
        " print(\"Umur:\", Tuple_Biodata[1])\n",
        " print(\"Semester:\", Tuple_Biodata[2])\n",
        " print(\"Jurusan:\", Tuple_Biodata[3])\n",
        " print(\"Mata Kuliah:\", Tuple_Biodata[4])\n",
        " print(\"Status Lulus:\", Tuple_Biodata[5])\n",
        "\n",
        " #Set\n",
        " Set_Biodata = {\"Tasya\", 20, 3, \"TRPE\", \"Pemerograman\", False}\n",
        "\n",
        " print(\"\\n== Set Biodata ==\")\n",
        " print(Set_Biodata)\n",
        "\n",
        " #Dictionary\n",
        " Dictionary_Biodata = {\n",
        "    \"Nama\": \"Tasya\",\n",
        "    \"Umur\": 20,\n",
        "    \"Semester\": 3,\n",
        "    \"Jurusan\": \"TRPE\",\n",
        "    \"Mata Kuliah\": \"Pemrograman Dasar\",\n",
        "    \"Status Lulus\": False\n",
        "}\n",
        "print(\"\\n=== Dictionary Biodata ===\")\n",
        "for key, value in Dictionary_Biodata.items():\n",
        "    print(key, \":\", value)"
      ]
    }
  ]
}