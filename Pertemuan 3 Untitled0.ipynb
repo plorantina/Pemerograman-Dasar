{
  "nbformat": 4,
  "nbformat_minor": 0,
  "metadata": {
    "colab": {
      "provenance": [],
      "authorship_tag": "ABX9TyN4cphYP1bkMSKmAh0xwqzD",
      "include_colab_link": true
    },
    "kernelspec": {
      "name": "python3",
      "display_name": "Python 3"
    },
    "language_info": {
      "name": "python"
    }
  },
  "cells": [
    {
      "cell_type": "markdown",
      "metadata": {
        "id": "view-in-github",
        "colab_type": "text"
      },
      "source": [
        "<a href=\"https://colab.research.google.com/github/plorantina/Pemerograman-Dasar/blob/main/Pertemuan%203%20Untitled0.ipynb\" target=\"_parent\"><img src=\"https://colab.research.google.com/assets/colab-badge.svg\" alt=\"Open In Colab\"/></a>"
      ]
    },
    {
      "cell_type": "code",
      "execution_count": null,
      "metadata": {
        "colab": {
          "base_uri": "https://localhost:8080/"
        },
        "id": "usYdVQv6lHNc",
        "outputId": "ab64caa3-1fd2-46f5-ecf8-baa1720c7d87"
      },
      "outputs": [
        {
          "output_type": "stream",
          "name": "stdout",
          "text": [
            "Berapa porsi makan yang anda beli? : 2\n",
            "siapa nama pelanggan? : Tasya\n",
            "\n",
            "==Pembelanjaan==\n",
            "Berapa porsi   : 2\n",
            "nama pelanggan : Tasya\n"
          ]
        }
      ],
      "source": [
        "#Minggu 3 (Pratikum 1)\n",
        "\n",
        "# Menerima Input- dengan tipe data float\n",
        "# Input total \"float\"\n",
        "# Input nama \"string\"\n",
        "total = float (input(\"Berapa porsi makan yang anda beli? : \"))\n",
        "nama = str (input(\"siapa nama pelanggan? : \"))\n",
        "print()\n",
        "\n",
        "print(\"==Pembelanjaan==\")\n",
        "print(\"Berapa porsi   : %.0f\" % total)\n",
        "print(\"nama pelanggan :\", nama)"
      ]
    },
    {
      "cell_type": "code",
      "source": [
        "# Minggu 3 (Pratikum 2)\n",
        "\n",
        "# Struk Pembelanja\n",
        "Makanan = \"Burger telur sosis\"\n",
        "Porsi = 1\n",
        "Harga = 18.500\n",
        "Code_barang = 11\n",
        "\n",
        "# Tipe string\n",
        "print(\"Tasya sedang memesan %s\" % (Makanan))\n",
        "\n",
        "# Tipe integer\n",
        "print(\"Berapa porsi yang di beli %d\" % (Porsi))\n",
        "\n",
        "# Tipe float\n",
        "print(\"Harga per porsi Rp%.3f ribu rupiah\" %(Harga))\n",
        "\n",
        "# Tipe Heksadesimal\n",
        "print(\"Code barang dalam heksadesimal %x\" % (Code_barang))\n",
        "\n",
        "# Tipe Oktal\n",
        "print(\"Code barang dalam oktal %o\" % (Code_barang) )\n"
      ],
      "metadata": {
        "colab": {
          "base_uri": "https://localhost:8080/"
        },
        "id": "Ys-6BBYGroiG",
        "outputId": "feb14b0d-7d84-452a-8147-c1781631caaf"
      },
      "execution_count": null,
      "outputs": [
        {
          "output_type": "stream",
          "name": "stdout",
          "text": [
            "Tasya sedang memesan Burger telur sosis\n",
            "Berapa porsi yang di beli 1\n",
            "Harga per porsi Rp18.500 ribu rupiah\n",
            "Code barang dalam heksadesimal b\n",
            "Code barang dalam oktal 13\n"
          ]
        }
      ]
    },
    {
      "cell_type": "code",
      "source": [
        "# Minggu 3 (Pratikum 3)\n",
        "\n",
        "# Kalkulator sederhana\n",
        "a = 20\n",
        "b = 5\n",
        "print(\"Penjumlahan:\", a + b)\n",
        "print(\"Pengurangan:\", a - b)\n",
        "print(\"Perkalian:\", a * b)\n",
        "print(\"Pembagian:\", a / b)\n",
        "\n",
        "# Mengecek bilangan\n",
        "bilangan = 8\n",
        "hasil = (bilangan > 0) and (bilangan % 2 == 0)\n",
        "print(\"Genap dan positif?\", hasil)\n",
        "print()\n",
        "\n",
        "# Kalkulator kasir\n",
        "harga_makan = float(input(\"Berapa harga ayam bakar per porsi? \"))\n",
        "jumlah_makan = float(input(\"Berapa porsi yang Anda beli? \"))\n",
        "total_makan = harga_makan * jumlah_makan\n",
        "print()\n",
        "\n",
        "print(\"====Data transaksi===\")\n",
        "print(f\"Harga makan per porsi = Rp {harga_makan:,.2f}, totalnya adalah Rp {total_makan:,.2f}\")"
      ],
      "metadata": {
        "colab": {
          "base_uri": "https://localhost:8080/"
        },
        "id": "sPZceYVO0KdA",
        "outputId": "29c99348-08c3-4907-c5f7-a911a8354cde"
      },
      "execution_count": null,
      "outputs": [
        {
          "output_type": "stream",
          "name": "stdout",
          "text": [
            "Penjumlahan: 25\n",
            "Pengurangan: 15\n",
            "Perkalian: 100\n",
            "Pembagian: 4.0\n",
            "Genap dan positif? True\n",
            "\n",
            "Berapa harga ayam bakar per porsi? 22000\n",
            "Berapa porsi yang Anda beli? 2\n",
            "\n",
            "====Data transaksi===\n",
            "Harga makan per porsi = Rp 22,000.00, totalnya adalah Rp 44,000.00\n"
          ]
        }
      ]
    },
    {
      "cell_type": "code",
      "source": [
        "# Minggu 3 (Pratikum 4)\n",
        "\n",
        "# Konversi waktu\n",
        "total_detik = 358200\n",
        "jam = total_detik // 3600\n",
        "sisa_detik = total_detik % 3600\n",
        "menit = sisa_detik // 60\n",
        "detik = sisa_detik % 60\n",
        "\n",
        "print(f\"Hasil Konversi: {jam} Jam, {menit} Menit, {detik} Detik\")\n"
      ],
      "metadata": {
        "colab": {
          "base_uri": "https://localhost:8080/"
        },
        "id": "2kFt3DNW2lcg",
        "outputId": "2876ceda-3683-41eb-e5a4-15ab673570be"
      },
      "execution_count": null,
      "outputs": [
        {
          "output_type": "stream",
          "name": "stdout",
          "text": [
            "Hasil Konversi: 99 Jam, 30 Menit, 0 Detik\n"
          ]
        }
      ]
    },
    {
      "cell_type": "code",
      "source": [
        "# Mminggu 3 (Pratikum 5)\n",
        "\n",
        "# Membuat 5 variabel\n",
        "tugas = 80\n",
        "uts = 70\n",
        "uas = 90\n",
        "praktek = 85\n",
        "laporan = 70\n",
        "nilai_akhir = (0.3 * tugas) + (0.2 * uas) + (0.2 * uts) + (0.1 * laporan) + (0.2 * praktek)\n",
        "print(\"Nilai akhir =\", nilai_akhir)\n",
        "\n",
        "nilai_mahasiswa = 85\n",
        "standar_kelulusan = 75\n",
        "apakah_lulus = nilai_mahasiswa >= standar_kelulusan\n",
        "perlu_remedial = nilai_mahasiswa < standar_kelulusan\n",
        "print(f\"Nilai mahasiswa: {nilai_mahasiswa}\")\n",
        "print(f\"Standar kelulusan: {standar_kelulusan}\")\n",
        "print(f\"Apakah mahasiswa lulus? {apakah_lulus}\")\n",
        "print(f\"Perlu remedial? {perlu_remedial}\")"
      ],
      "metadata": {
        "colab": {
          "base_uri": "https://localhost:8080/"
        },
        "id": "y-KcLUbO6NwZ",
        "outputId": "fe29ff01-57e5-4c71-e2e8-c5574f711c4b"
      },
      "execution_count": null,
      "outputs": [
        {
          "output_type": "stream",
          "name": "stdout",
          "text": [
            "Nilai akhir = 80.0\n",
            "Nilai mahasiswa: 85\n",
            "Standar kelulusan: 75\n",
            "Apakah mahasiswa lulus? True\n",
            "Perlu remedial? False\n"
          ]
        }
      ]
    },
    {
      "cell_type": "code",
      "source": [
        "# Minggu 3 (Pratikum 6)\n",
        "\n",
        "# Input belanja via keyboard\n",
        "belanja = float (input(\"Masukkan total belanja: \"))\n",
        "\n",
        "# Diskon 35%\n",
        "diskon = (belanja > 500000) * (0.35 * belanja)\n",
        "\n",
        "# Hitung total harga\n",
        "total_harga = belanja - diskon\n",
        "print()\n",
        "\n",
        "# Output\n",
        "print(\"===struk pembayaran===\")\n",
        "print(f\"Total belanja : Rp{belanja:,.0f}\")\n",
        "print(f\"Diskon: {int((belanja > 500000) * 35)}%\")\n",
        "print(f\"Potongan harga: Rp{diskon:,.0f}\")\n",
        "print(f\"Total harga setelah diskon = Rp{total_harga:,.0f}\")"
      ],
      "metadata": {
        "colab": {
          "base_uri": "https://localhost:8080/"
        },
        "id": "rNC_Q3WTu8Hv",
        "outputId": "555eaba2-bcd8-4cfc-ade4-474212311cc9"
      },
      "execution_count": null,
      "outputs": [
        {
          "output_type": "stream",
          "name": "stdout",
          "text": [
            "Masukkan total belanja: 1600000\n",
            "\n",
            "===struk pembayaran===\n",
            "Total belanja : Rp1,600,000\n",
            "Diskon: 35%\n",
            "Potongan harga: Rp560,000\n",
            "Total harga setelah diskon = Rp1,040,000\n"
          ]
        }
      ]
    }
  ]
}