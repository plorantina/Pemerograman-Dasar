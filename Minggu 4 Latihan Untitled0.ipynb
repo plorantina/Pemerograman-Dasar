{
  "nbformat": 4,
  "nbformat_minor": 0,
  "metadata": {
    "colab": {
      "provenance": [],
      "authorship_tag": "ABX9TyPxINjvnv14j9HEAgCWDubI",
      "include_colab_link": true
    },
    "kernelspec": {
      "name": "python3",
      "display_name": "Python 3"
    },
    "language_info": {
      "name": "python"
    }
  },
  "cells": [
    {
      "cell_type": "markdown",
      "metadata": {
        "id": "view-in-github",
        "colab_type": "text"
      },
      "source": [
        "<a href=\"https://colab.research.google.com/github/plorantina/Pemerograman-Dasar/blob/main/Minggu%204%20Latihan%20Untitled0.ipynb\" target=\"_parent\"><img src=\"https://colab.research.google.com/assets/colab-badge.svg\" alt=\"Open In Colab\"/></a>"
      ]
    },
    {
      "cell_type": "code",
      "execution_count": null,
      "metadata": {
        "id": "1OFqX2BuUtZB",
        "colab": {
          "base_uri": "https://localhost:8080/"
        },
        "outputId": "ab9c7f12-16c7-474e-b9ac-f9cc044e9dcd"
      },
      "outputs": [
        {
          "output_type": "stream",
          "name": "stdout",
          "text": [
            "Masukkan sebuah angka: 11\n",
            "Bukan kelipatan 5\n"
          ]
        }
      ],
      "source": [
        "# Latihan 1\n",
        "# Program cek kelipatan 5\n",
        "\n",
        "angka = int(input(\"Masukkan sebuah angka: \"))\n",
        "\n",
        "if angka % 5 == 0:\n",
        "    print(\"Kelipatan 5\")\n",
        "else:\n",
        "    print(\"Bukan kelipatan 5\")\n"
      ]
    },
    {
      "cell_type": "code",
      "source": [
        "# Latihan 2\n",
        "# Program cek tahun kabisat\n",
        "\n",
        "tahun = int(input(\"Masukkan tahun: \"))\n",
        "\n",
        "if tahun % 400 == 0:\n",
        "    print(\"Tahun Kabisat\")\n",
        "elif tahun % 4 == 0 and tahun % 100 != 0:\n",
        "    print(\"Tahun Kabisat\")\n",
        "else:\n",
        "    print(\"Bukan Tahun Kabisat\")\n"
      ],
      "metadata": {
        "colab": {
          "base_uri": "https://localhost:8080/"
        },
        "id": "XKQFasXTYdbb",
        "outputId": "318f9c0e-5517-47d6-89ec-87731fe7915b"
      },
      "execution_count": null,
      "outputs": [
        {
          "output_type": "stream",
          "name": "stdout",
          "text": [
            "Masukkan tahun: 2024\n",
            "Tahun Kabisat\n"
          ]
        }
      ]
    },
    {
      "cell_type": "code",
      "source": [
        "# Latihann 3\n",
        "# Soal Matematika\n",
        "\n",
        "jawaban = int(input(\"Berapakah hasil dari 32 + 6 = \"))\n",
        "\n",
        "if jawaban == 38:\n",
        "    print(\"Jawaban Benar \")\n",
        "else:\n",
        "    print(\"Jawaban Salah \")\n"
      ],
      "metadata": {
        "colab": {
          "base_uri": "https://localhost:8080/"
        },
        "id": "gsU9HKKaYoEO",
        "outputId": "dbdbf732-0b67-4aef-8b3d-d82c3966a5d0"
      },
      "execution_count": null,
      "outputs": [
        {
          "output_type": "stream",
          "name": "stdout",
          "text": [
            "Berapakah hasil dari 32 + 6 = 37\n",
            "Jawaban Salah \n"
          ]
        }
      ]
    },
    {
      "cell_type": "code",
      "source": [
        "# Latihan 4\n",
        "# Program menampilkan nama bulan\n",
        "bulan = int(input(\"Masukkan angka bulan (1-12): \"))\n",
        "\n",
        "if bulan == 1:\n",
        "    print(\"Januari = 1\")\n",
        "elif bulan == 2:\n",
        "    print(\"Februari = 2\")\n",
        "elif bulan == 3:\n",
        "    print(\"Maret = 3\")\n",
        "elif bulan == 4:\n",
        "    print(\"April = 4\")\n",
        "elif bulan == 5:\n",
        "    print(\"Mei = 5\")\n",
        "elif bulan == 6:\n",
        "    print(\"Juni = 6\")\n",
        "elif bulan == 7:\n",
        "    print(\"Juli = 7\")\n",
        "elif bulan == 8:\n",
        "    print(\"Agustus = 8\")\n",
        "elif bulan == 9:\n",
        "    print(\"September = 9\")\n",
        "elif bulan == 10:\n",
        "    print(\"Oktober = 10\")\n",
        "elif bulan == 11:\n",
        "    print(\"November = 11\")\n",
        "elif bulan == 12:\n",
        "    print(\"Desember = 12\")\n",
        "else:\n",
        "    print(\"Input salah\")\n"
      ],
      "metadata": {
        "colab": {
          "base_uri": "https://localhost:8080/"
        },
        "id": "2mJFUW_Mc92D",
        "outputId": "39e59387-fb59-404a-d9d9-c3d4baec142d"
      },
      "execution_count": null,
      "outputs": [
        {
          "output_type": "stream",
          "name": "stdout",
          "text": [
            "Masukkan angka bulan (1-12): 6\n",
            "Juni = 6\n"
          ]
        }
      ]
    },
    {
      "cell_type": "code",
      "source": [
        "# Latihan 5\n",
        "# Program menampilkan salam sesuai jam\n",
        "\n",
        "jam = int(input(\"Masukkan jam (0-23): \"))\n",
        "\n",
        "if 0 <= jam <= 11:\n",
        "    print(\"Selamat Pagi\")\n",
        "elif 12 <= jam <= 15:\n",
        "    print(\"Selamat Siang\")\n",
        "elif 16 <= jam <= 18:\n",
        "    print(\"Selamat Sore\")\n",
        "elif 19 <= jam <= 23:\n",
        "    print(\"Selamat Malam\")\n",
        "else:\n",
        "    print(\"Input salah\")\n"
      ],
      "metadata": {
        "id": "oqjKRb4ZdLiV",
        "colab": {
          "base_uri": "https://localhost:8080/"
        },
        "outputId": "048af062-7ce2-4df3-c855-f52001a6ae0f"
      },
      "execution_count": null,
      "outputs": [
        {
          "output_type": "stream",
          "name": "stdout",
          "text": [
            "Masukkan jam (0-23): 12\n",
            "Selamat Siang\n"
          ]
        }
      ]
    }
  ]
}