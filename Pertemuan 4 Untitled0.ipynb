{
  "nbformat": 4,
  "nbformat_minor": 0,
  "metadata": {
    "colab": {
      "provenance": [],
      "authorship_tag": "ABX9TyN+QWq0efYKRCcbaz70mH5j",
      "include_colab_link": true
    },
    "kernelspec": {
      "name": "python3",
      "display_name": "Python 3"
    },
    "language_info": {
      "name": "python"
    }
  },
  "cells": [
    {
      "cell_type": "markdown",
      "metadata": {
        "id": "view-in-github",
        "colab_type": "text"
      },
      "source": [
        "<a href=\"https://colab.research.google.com/github/plorantina/Pemerograman-Dasar/blob/main/Pertemuan%204%20Untitled0.ipynb\" target=\"_parent\"><img src=\"https://colab.research.google.com/assets/colab-badge.svg\" alt=\"Open In Colab\"/></a>"
      ]
    },
    {
      "cell_type": "code",
      "execution_count": 13,
      "metadata": {
        "colab": {
          "base_uri": "https://localhost:8080/"
        },
        "id": "usYdVQv6lHNc",
        "outputId": "5d9b65f9-44c4-45dc-9f61-db001a6b867d"
      },
      "outputs": [
        {
          "output_type": "stream",
          "name": "stdout",
          "text": [
            "berapa porsi makan yang anda beli? : 20\n",
            "siapa nama pelanggan? : Tasya\n",
            "==Pembelanjaan==\n",
            "berapa porsi   : 20\n",
            "nama pelanggan : Tasya\n"
          ]
        }
      ],
      "source": [
        "# Menerima Input\n",
        "total = input(\"berapa porsi makan yang anda beli? : \")\n",
        "nama = input(\"siapa nama pelanggan? : \")\n",
        "\n",
        "print(\"==Pembelanjaan==\")\n",
        "print(\"berapa porsi   :\", total)\n",
        "print(\"nama pelanggan :\", nama)"
      ]
    },
    {
      "cell_type": "code",
      "source": [
        "# Tipe float\n",
        "total = float (input(\"berapa porsi makan yang anda beli? : \"))\n",
        "nama = str (input(\"siapa nama pelanggan? : \"))"
      ],
      "metadata": {
        "colab": {
          "base_uri": "https://localhost:8080/"
        },
        "id": "aBTCz3R4nMJV",
        "outputId": "036d4205-8af5-4320-bf9e-6b81928eb178"
      },
      "execution_count": 18,
      "outputs": [
        {
          "name": "stdout",
          "output_type": "stream",
          "text": [
            "berapa porsi makan yang anda beli? : 2.0\n",
            "siapa nama pelanggan? : Tasya\n"
          ]
        }
      ]
    },
    {
      "cell_type": "code",
      "source": [
        "food = \"Mi ayam bakso\"\n",
        "print(\"Hendi sedang memesan\", food)\n",
        "\n",
        "print(\"Hendi sedang memesan\", food)\n",
        "print(\"Hendi sedang memesan\", food)\n",
        "print(\"Hendi sedang memesan\", food)"
      ],
      "metadata": {
        "colab": {
          "base_uri": "https://localhost:8080/"
        },
        "id": "A7RfpMuS_fzJ",
        "outputId": "dbbe1ea1-15cd-4b65-e08f-f4495bc09d64"
      },
      "execution_count": 57,
      "outputs": [
        {
          "output_type": "stream",
          "name": "stdout",
          "text": [
            "Hendi sedang memesan Mi ayam bakso\n"
          ]
        }
      ]
    },
    {
      "cell_type": "code",
      "source": [
        "# Struk Pembelanja\n",
        "Makanan = \"Burger telur sosis\"\n",
        "Porsi = 1\n",
        "Harga = 18.500\n",
        "Code_barang = 11\n",
        "\n",
        "# Tipe string\n",
        "print(\"Tasya sedang memesan %s\" % (Makanan))\n",
        "\n",
        "# Tipe integer\n",
        "print(\"Berapa porsi yang di beli %d\" % (Porsi))\n",
        "\n",
        "# Tipe float\n",
        "print(\"Harga per porsi %f\" %(Harga))\n",
        "\n",
        "# Tipe Heksadesimal\n",
        "print(\"Code barang dalam heksadesimal %x\" % (Code_barang))\n",
        "\n",
        "# Tipe Oktal\n",
        "print(\"Code barang dalam oktal %o\" % )"
      ],
      "metadata": {
        "colab": {
          "base_uri": "https://localhost:8080/"
        },
        "id": "Ys-6BBYGroiG",
        "outputId": "e90459d8-2b4a-4ffa-dc5f-f902d79a2f3c"
      },
      "execution_count": 40,
      "outputs": [
        {
          "output_type": "stream",
          "name": "stdout",
          "text": [
            "Tasya sedang memesan Burger telur sosis\n",
            "Berapa porsi yang di beli 1\n",
            "Harga per porsi 18.500000\n",
            "Code barang = 11 dalam heksadesimal adalah b\n",
            "Code barang = 11 dalam oktal adalah 13\n"
          ]
        }
      ]
    },
    {
      "cell_type": "code",
      "source": [
        "a = 20\n",
        "b = 5\n",
        "print(\"Penjumlahan:\", a + b)\n",
        "print(\"Pengurangan:\", a - b)\n",
        "print(\"Perkalian:\", a * b)\n",
        "print(\"Pembagian:\", a / b)\n",
        "\n",
        "bilangan = 8\n",
        "hasil = (bilangan > 0) and (bilangan % 2 == 0)\n",
        "print(\"Genap dan positif?\", hasil)\n",
        "\n",
        "\n",
        "harga_makan = int(input(\"Berapa harga mi ayam per porsi? \"))\n",
        "jumlah_makan = int(input(\"Berapa porsi yang Anda beli? \"))\n",
        "total_makan = harga_makan * jumlah_makan\n",
        "\n",
        "print(f\"Harga makan per porsi = {harga_makan}, totalnya adalah {total_makan}\")\n"
      ],
      "metadata": {
        "colab": {
          "base_uri": "https://localhost:8080/"
        },
        "id": "DGcLaUU-xwne",
        "outputId": "51eb35d9-3dc0-44bf-d36d-f7cc05c3277a"
      },
      "execution_count": 46,
      "outputs": [
        {
          "output_type": "stream",
          "name": "stdout",
          "text": [
            "Penjumlahan: 25\n",
            "Pengurangan: 15\n",
            "Perkalian: 100\n",
            "Pembagian: 4.0\n",
            "Genap dan positif? True\n",
            "Berapa harga mi ayam per porsi? 20000\n",
            "Berapa porsi yang Anda beli? 2\n",
            "Harga makan per porsi = 20000, totalnya adalah 40000\n"
          ]
        }
      ]
    },
    {
      "cell_type": "code",
      "source": [
        "# Copy\n",
        "# Tipe float\n",
        "\n",
        "a = 20\n",
        "b = 5\n",
        "print(\"Penjumlahan:\", a + b)\n",
        "print(\"Pengurangan:\", a - b)\n",
        "print(\"Perkalian:\", a * b)\n",
        "print(\"Pembagian:\", a / b)\n",
        "\n",
        "bilangan = 8\n",
        "hasil = (bilangan > 0) and (bilangan % 2 == 0)\n",
        "print(\"Genap dan positif?\", hasil)\n",
        "\n",
        "harga_makan = float(input(\"Berapa harga mi ayam per porsi? \"))\n",
        "jumlah_makan = float(input(\"Berapa porsi yang Anda beli? \"))\n",
        "total_makan = harga_makan * jumlah_makan\n",
        "\n",
        "print(f\"Harga makan per porsi = Rp {harga_makan:,.2f}, totalnya adalah Rp {total_makan:,.2f}\")"
      ],
      "metadata": {
        "colab": {
          "base_uri": "https://localhost:8080/"
        },
        "id": "sPZceYVO0KdA",
        "outputId": "c30f1a4c-10fc-4aed-8659-21a691dda85b"
      },
      "execution_count": 47,
      "outputs": [
        {
          "output_type": "stream",
          "name": "stdout",
          "text": [
            "Penjumlahan: 25\n",
            "Pengurangan: 15\n",
            "Perkalian: 100\n",
            "Pembagian: 4.0\n",
            "Genap dan positif? True\n",
            "Berapa harga mi ayam per porsi? 20000\n",
            "Berapa porsi yang Anda beli? 2\n",
            "Harga makan per porsi = Rp 20,000.00, totalnya adalah Rp 40,000.00\n"
          ]
        }
      ]
    },
    {
      "cell_type": "code",
      "source": [
        "# konversi waktu\n",
        "total_detik = 3600\n",
        "jam = total_detik // 3600\n",
        "sisa_detik = total_detik % 3600\n",
        "menit = sisa_detik // 60\n",
        "detik = sisa_detik % 60\n",
        "\n",
        "print(f\"Hasil Konversi: {jam} Jam, {menit} Menit, {detik} Detik\")\n"
      ],
      "metadata": {
        "colab": {
          "base_uri": "https://localhost:8080/"
        },
        "id": "7S1ukBtZ2AhI",
        "outputId": "c9978ef4-ac65-446f-9739-925ef3be8295"
      },
      "execution_count": 48,
      "outputs": [
        {
          "output_type": "stream",
          "name": "stdout",
          "text": [
            "Hasil Konversi: 1 Jam, 0 Menit, 0 Detik\n"
          ]
        }
      ]
    },
    {
      "cell_type": "code",
      "source": [
        "# konversi waktu\n",
        "total_detik = 358200\n",
        "jam = total_detik // 3600\n",
        "sisa_detik = total_detik % 3600\n",
        "menit = sisa_detik // 60\n",
        "detik = sisa_detik % 60\n",
        "\n",
        "print(f\"Hasil Konversi: {jam} Jam, {menit} Menit, {detik} Detik\")\n"
      ],
      "metadata": {
        "colab": {
          "base_uri": "https://localhost:8080/"
        },
        "id": "2kFt3DNW2lcg",
        "outputId": "047889b0-72fa-4c31-f500-d3ebf7442a26"
      },
      "execution_count": 52,
      "outputs": [
        {
          "output_type": "stream",
          "name": "stdout",
          "text": [
            "Hasil Konversi: 99 Jam, 30 Menit, 0 Detik\n"
          ]
        }
      ]
    },
    {
      "cell_type": "code",
      "source": [
        "tugas = 80\n",
        "uts = 70\n",
        "uas = 90\n",
        "nilai_akhir = (0.3 * tugas) + (0.4 * uas)\n",
        "print(\"Nilai akhir =\", nilai_akhir)\n",
        "\n",
        "nilai_mahasiswa = 85\n",
        "standar_kelulusan = 75\n",
        "apakah_lulus = nilai_mahasiswa >= standar_kelulusan\n",
        "perlu_remedial = nilai_mahasiswa < standar_kelulusan\n",
        "print(f\"Nilai mahasiswa: {nilai_mahasiswa}\")\n",
        "print(f\"Standar kelulusan: {standar_kelulusan}\")\n",
        "print(f\"Apakah mahasiswa lulus? {apakah_lulus}\")\n",
        "print(f\"Perlu remedial? {perlu_remedial}\")\n"
      ],
      "metadata": {
        "colab": {
          "base_uri": "https://localhost:8080/"
        },
        "id": "A3-ACiK63ygB",
        "outputId": "ca835056-86d5-4871-ee2c-925098b1ad40"
      },
      "execution_count": 55,
      "outputs": [
        {
          "output_type": "stream",
          "name": "stdout",
          "text": [
            "Nilai akhir = 60.0\n",
            "Nilai mahasiswa: 85\n",
            "Standar kelulusan: 75\n",
            "Apakah mahasiswa lulus? True\n",
            "Perlu remedial? False\n"
          ]
        }
      ]
    },
    {
      "cell_type": "code",
      "source": [
        "# copy\n",
        "# membuat 5 variabel\n",
        "\n",
        "tugas = 80\n",
        "uts = 70\n",
        "uas = 90\n",
        "praktek = 85\n",
        "laporan = 70\n",
        "nilai_akhir = (0.3 * tugas) + (0.2 * uas) + (0.2 * uts) + (0.1 * laporan) + (0.2 * praktek)\n",
        "print(\"Nilai akhir =\", nilai_akhir)\n",
        "\n",
        "nilai_mahasiswa = 85\n",
        "standar_kelulusan = 75\n",
        "apakah_lulus = nilai_mahasiswa >= standar_kelulusan\n",
        "perlu_remedial = nilai_mahasiswa < standar_kelulusan\n",
        "print(f\"Nilai mahasiswa: {nilai_mahasiswa}\")\n",
        "print(f\"Standar kelulusan: {standar_kelulusan}\")\n",
        "print(f\"Apakah mahasiswa lulus? {apakah_lulus}\")\n",
        "print(f\"Perlu remedial? {perlu_remedial}\")"
      ],
      "metadata": {
        "colab": {
          "base_uri": "https://localhost:8080/"
        },
        "id": "y-KcLUbO6NwZ",
        "outputId": "ee3648e9-b2fb-41c9-85af-69f81811aac1"
      },
      "execution_count": 56,
      "outputs": [
        {
          "output_type": "stream",
          "name": "stdout",
          "text": [
            "Nilai akhir = 80.0\n",
            "Nilai mahasiswa: 85\n",
            "Standar kelulusan: 75\n",
            "Apakah mahasiswa lulus? True\n",
            "Perlu remedial? False\n"
          ]
        }
      ]
    },
    {
      "cell_type": "code",
      "source": [],
      "metadata": {
        "id": "quvb-ZAH-bHr"
      },
      "execution_count": null,
      "outputs": []
    }
  ]
}