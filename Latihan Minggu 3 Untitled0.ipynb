{
  "nbformat": 4,
  "nbformat_minor": 0,
  "metadata": {
    "colab": {
      "provenance": [],
      "authorship_tag": "ABX9TyM6KaeItCNhRqnNS6BmjNr8",
      "include_colab_link": true
    },
    "kernelspec": {
      "name": "python3",
      "display_name": "Python 3"
    },
    "language_info": {
      "name": "python"
    }
  },
  "cells": [
    {
      "cell_type": "markdown",
      "metadata": {
        "id": "view-in-github",
        "colab_type": "text"
      },
      "source": [
        "<a href=\"https://colab.research.google.com/github/plorantina/Pemerograman-Dasar/blob/main/Latihan%20Minggu%203%20Untitled0.ipynb\" target=\"_parent\"><img src=\"https://colab.research.google.com/assets/colab-badge.svg\" alt=\"Open In Colab\"/></a>"
      ]
    },
    {
      "cell_type": "code",
      "source": [
        "# Minggu 3 (Latihan 1)\n",
        "# Program Menentukan Tahun Kabisat\n",
        "\n",
        "# Input tahun\n",
        "tahun = int(input(\"Masukkan tahun: \"))\n",
        "\n",
        "# Ekspresi logika kabisat\n",
        "habis_bagi_4 = (tahun % 4 == 0)            # True jika habis dibagi 4\n",
        "print(\"Cek habis dibagi 4        :\", habis_bagi_4)\n",
        "\n",
        "tidak_habis_bagi_100 = (tahun % 100 != 0)  # True jika tidak habis dibagi 100\n",
        "print(\"Cek tidak habis dibagi 100:\", tidak_habis_bagi_100)\n",
        "\n",
        "habis_bagi_400 = (tahun % 400 == 0)        # True jika habis dibagi 400\n",
        "print(\"Cek habis dibagi 400      :\", habis_bagi_400)\n",
        "\n",
        "# Rumus hasil kabisat\n",
        "hasil = (habis_bagi_4 and tidak_habis_bagi_100) or habis_bagi_400\n",
        "\n",
        "# Output akhir\n",
        "print(\"-------------------------------------\")\n",
        "print(\"Tahun yang dimasukkan :\", tahun)\n",
        "print(\"Apakah tahun kabisat? :\", hasil)\n",
        "print(\"Keterangan            : Tahun\", tahun, (\"Kabisat\", \"Bukan Kabisat\")[hasil == False])\n",
        "\n"
      ],
      "metadata": {
        "colab": {
          "base_uri": "https://localhost:8080/"
        },
        "id": "6-r2TalsHWO2",
        "outputId": "11f06d7d-b282-4e6f-d25d-af41456b452f"
      },
      "execution_count": null,
      "outputs": [
        {
          "output_type": "stream",
          "name": "stdout",
          "text": [
            "Masukkan tahun: 2024\n",
            "Cek habis dibagi 4        : True\n",
            "Cek tidak habis dibagi 100: True\n",
            "Cek habis dibagi 400      : False\n",
            "-------------------------------------\n",
            "Tahun yang dimasukkan : 2024\n",
            "Apakah tahun kabisat? : True\n",
            "Keterangan            : Tahun 2024 Kabisat\n"
          ]
        }
      ]
    },
    {
      "cell_type": "code",
      "source": [
        "# Minggu 3 (Latihan 2)\n",
        "# Program Sederhana Operasi Aritmatika\n",
        "# Lingkup variabel: angka1, angka2, tambah, kurang, kali, bagi\n",
        "\n",
        "# Fungsi input (meminta user memasukkan angka)\n",
        "angka1 = int(input(\"Masukkan angka pertama: \"))\n",
        "angka2 = int(input(\"Masukkan angka kedua  : \"))\n",
        "\n",
        "# Operasi aritmatika\n",
        "tambah = angka1 + angka2\n",
        "kurang = angka1 - angka2\n",
        "kali   = angka1 * angka2\n",
        "bagi   = angka1 / angka2\n",
        "\n",
        "# Fungsi output (menampilkan hasil)\n",
        "print(\"===== HASIL PERHITUNGAN =====\")\n",
        "print(\"Angka pertama :\", angka1)\n",
        "print(\"Angka kedua   :\", angka2)\n",
        "print(\"Hasil penjumlahan   :\", tambah)\n",
        "print(\"Hasil pengurangan   :\", kurang)\n",
        "print(\"Hasil perkalian     :\", kali)\n",
        "print(\"Hasil pembagian     :\", bagi)\n"
      ],
      "metadata": {
        "colab": {
          "base_uri": "https://localhost:8080/"
        },
        "id": "pOYW9yfeP4Ez",
        "outputId": "54bacbf8-c87a-401b-c852-9009d320e16f"
      },
      "execution_count": null,
      "outputs": [
        {
          "output_type": "stream",
          "name": "stdout",
          "text": [
            "Masukkan angka pertama: 15\n",
            "Masukkan angka kedua  : 3\n",
            "===== HASIL PERHITUNGAN =====\n",
            "Angka pertama : 15\n",
            "Angka kedua   : 3\n",
            "Hasil penjumlahan   : 18\n",
            "Hasil pengurangan   : 12\n",
            "Hasil perkalian     : 45\n",
            "Hasil pembagian     : 5.0\n"
          ]
        }
      ]
    }
  ]
}