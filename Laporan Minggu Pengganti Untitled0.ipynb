{
  "nbformat": 4,
  "nbformat_minor": 0,
  "metadata": {
    "colab": {
      "provenance": [],
      "authorship_tag": "ABX9TyMAbkwaHyFuEUkdWuq5QHsf",
      "include_colab_link": true
    },
    "kernelspec": {
      "name": "python3",
      "display_name": "Python 3"
    },
    "language_info": {
      "name": "python"
    }
  },
  "cells": [
    {
      "cell_type": "markdown",
      "metadata": {
        "id": "view-in-github",
        "colab_type": "text"
      },
      "source": [
        "<a href=\"https://colab.research.google.com/github/plorantina/Pemerograman-Dasar/blob/main/Laporan%20Minggu%20Pengganti%20Untitled0.ipynb\" target=\"_parent\"><img src=\"https://colab.research.google.com/assets/colab-badge.svg\" alt=\"Open In Colab\"/></a>"
      ]
    },
    {
      "cell_type": "code",
      "execution_count": null,
      "metadata": {
        "id": "x1Bh9hhH2Ss9",
        "colab": {
          "base_uri": "https://localhost:8080/"
        },
        "outputId": "502a1ccf-0d98-4b75-a408-a28d775e474a"
      },
      "outputs": [
        {
          "output_type": "stream",
          "name": "stdout",
          "text": [
            "Sistem siap. Selamat datang kembali di sesi praktikum.\n",
            "=================================== \n",
            "=== BIODATA PRAKTEKKAN ===\n",
            "Nama        : Tasya Plorantina Limbong\n",
            "NIM         : 4232401030\n",
            "Jurusan     : Teknik Jurusan\n",
            "Prodi       : Teknologi Rekayasa Pembangkit Energi\n",
            "Kelas       : Pagi-3A\n",
            "==================================\n"
          ]
        }
      ],
      "source": [
        "# SOAL 1: Fungsi Inisialisasi Sederhana\n",
        "def sapa_praktikan():\n",
        "    \"\"\"Mencetak pesan sambutan dasar.\"\"\"\n",
        "    print(\"Sistem siap. Selamat datang kembali di sesi praktikum.\")\n",
        "    print(\"=================================== \")\n",
        "\n",
        "# MODIFIKASI FUNGSI BIODATA\n",
        "def Biodata():\n",
        "    \"\"\"Menampilkan biodata lengkap.\"\"\"\n",
        "    print(\"=== BIODATA PRAKTEKKAN ===\")\n",
        "    print(\"Nama        : Tasya Plorantina Limbong\")\n",
        "    print(\"NIM         : 4232401030\")\n",
        "    print(\"Jurusan     : Teknik Jurusan\")\n",
        "    print(\"Prodi       : Teknologi Rekayasa Pembangkit Energi\")\n",
        "    print(\"Kelas       : Pagi-3A\")\n",
        "\n",
        "    print(\"==================================\")\n",
        "\n",
        "# Pemanggilan fungsi\n",
        "sapa_praktikan()\n",
        "Biodata()\n"
      ]
    },
    {
      "cell_type": "code",
      "source": [
        "# SOAL 2: Menghitung Volume Kubus\n",
        "def hitung_volume_kubus(sisi):\n",
        "    \"\"\"Menghitung volume kubus dari panjang sisinya.\"\"\"\n",
        "    return sisi ** 3   # sisi pangkat 3\n",
        "\n",
        "# Pemanggilan:\n",
        "panjang_sisi = 5\n",
        "print(f\"Volume kubus dengan sisi {panjang_sisi} adalah: {hitung_volume_kubus(panjang_sisi)}\")\n",
        "\n",
        "# MODIFIKASI: Menghitung Volume Balok\n",
        "def hitung_volume_balok(panjang, lebar, tinggi):\n",
        "    \"\"\"Menghitung volume balok dari panjang, lebar, dan tinggi.\"\"\"\n",
        "    return panjang * lebar * tinggi\n",
        "\n",
        "# Pemanggilan:\n",
        "p = 11\n",
        "l = 6\n",
        "t = 5\n",
        "print(f\"Volume balok dengan ukuran {p} x {l} x {t} adalah: {hitung_volume_balok(p, l, t)}\")\n"
      ],
      "metadata": {
        "colab": {
          "base_uri": "https://localhost:8080/"
        },
        "id": "TKP1JwPoHRRi",
        "outputId": "d1615348-3f92-4f19-eff7-7d7754b63cde"
      },
      "execution_count": null,
      "outputs": [
        {
          "output_type": "stream",
          "name": "stdout",
          "text": [
            "Volume kubus dengan sisi 5 adalah: 125\n",
            "Volume balok dengan ukuran 11 x 6 x 5 adalah: 330\n"
          ]
        }
      ]
    },
    {
      "cell_type": "code",
      "source": [
        "#Soal 3: Fungsi dengan Parameter Non-Primitif (list) dan Perulangan (for)\n",
        "def hitung_rata_rata(data_nilai):\n",
        "    \"\"\"Menghitung rata-rata dari list angka tanpa menggunakan len().\"\"\"\n",
        "    total = 0\n",
        "    jumlah = 0\n",
        "\n",
        "    # Perulangan untuk menjumlahkan nilai dan menghitung banyaknya data\n",
        "    for nilai in data_nilai:\n",
        "        total += nilai\n",
        "        jumlah += 1\n",
        "\n",
        "    # Menghindari pembagian dengan nol\n",
        "    if jumlah > 0:\n",
        "        return total / jumlah\n",
        "    return 0\n",
        "\n",
        "# Pemanggilan:\n",
        "nilai_praktikan = [85, 78, 92, 65, 90]\n",
        "print(f\"Nilai rata-rata kelas adalah: {hitung_rata_rata(nilai_praktikan)}\")\n",
        "\n",
        "# MODIFIKASI\n",
        "print(\"=====MODIFIKASI=====\")\n",
        "def hitung_rata_rata(data_nilai):\n",
        "    \"\"\"Menghitung rata-rata dengan pengecekan nilai valid (0–100).\"\"\"\n",
        "    total = 0\n",
        "    jumlah_valid = 0\n",
        "\n",
        "    for nilai in data_nilai:\n",
        "        if 0 <= nilai <= 100:\n",
        "            total += nilai\n",
        "            jumlah_valid += 1\n",
        "        else:\n",
        "            print(f\"Nilai {nilai} diabaikan (tidak valid) atau penalti.\")\n",
        "\n",
        "    if jumlah_valid > 0:\n",
        "        return total / jumlah_valid\n",
        "    else:\n",
        "        return 0\n",
        "\n",
        "\n",
        "# Pemanggilan:\n",
        "nilai_praktikan = [85, 120, -10, 75, 195]\n",
        "print(f\"Nilai rata-rata kelas adalah: {hitung_rata_rata(nilai_praktikan)}\")\n",
        "\n"
      ],
      "metadata": {
        "colab": {
          "base_uri": "https://localhost:8080/"
        },
        "id": "W4vnZqaXKrBy",
        "outputId": "c5063c96-2f02-4785-efff-71acf6ecdbcf"
      },
      "execution_count": null,
      "outputs": [
        {
          "output_type": "stream",
          "name": "stdout",
          "text": [
            "Nilai rata-rata kelas adalah: 82.0\n",
            "=====MODIFIKASI=====\n",
            "Nilai 120 diabaikan (tidak valid) atau penalti.\n",
            "Nilai -10 diabaikan (tidak valid) atau penalti.\n",
            "Nilai 195 diabaikan (tidak valid) atau penalti.\n",
            "Nilai rata-rata kelas adalah: 80.0\n"
          ]
        }
      ]
    },
    {
      "cell_type": "code",
      "source": [
        "# SOAL 4: Sistem Penentuan Predikat Nilai\n",
        "def tentukan_predikat(skor):\n",
        "    \"\"\"Menentukan predikat (A, B, C, D, E) berdasarkan skor.\"\"\"\n",
        "    if skor >= 85:\n",
        "        return \"A\"\n",
        "    elif skor >= 70:\n",
        "        return \"B\"\n",
        "    elif skor >= 60:\n",
        "        return \"C\"\n",
        "    elif skor >= 50:\n",
        "        return \"D\"\n",
        "    else:\n",
        "        return \"E\"\n",
        "\n",
        "# Pemanggilan:\n",
        "print(f\"Skor 75 mendapat predikat: {tentukan_predikat(75)}\")\n",
        "print(f\"Skor 48 mendapat predikat: {tentukan_predikat(48)}\")\n",
        "\n",
        "#MODIFIKASI\n",
        "print(\"=====MODIFIKASI=====\")\n",
        "def tentukan_predikat(skor):\n",
        "    \"\"\"Menentukan predikat nilai (A, B, C, D, E) dengan validasi tipe data.\"\"\"\n",
        "    # Pengecekan tipe data\n",
        "    if not isinstance(skor, (int, float)):\n",
        "        return \"Error: Input harus berupa angka (int/float).\"\n",
        "\n",
        "    # Pengecekan rentang nilai\n",
        "    if skor < 0 or skor > 100:\n",
        "        return \"Error: Skor harus di antara 0–100.\"\n",
        "\n",
        "    # Penentuan predikat\n",
        "    if skor >= 85:\n",
        "        return \"A\"\n",
        "    elif skor >= 70:\n",
        "        return \"B\"\n",
        "    elif skor >= 60:\n",
        "        return \"C\"\n",
        "    elif skor >= 50:\n",
        "        return \"D\"\n",
        "    else:\n",
        "        return \"E\"\n",
        "\n",
        "# Pemanggilan:\n",
        "print(tentukan_predikat(90))\n",
        "print(tentukan_predikat(78.4))\n",
        "print(tentukan_predikat(\"80\"))\n",
        "print(tentukan_predikat(105))"
      ],
      "metadata": {
        "colab": {
          "base_uri": "https://localhost:8080/"
        },
        "id": "UxdkUjmaPAHA",
        "outputId": "a438a50f-a759-4f0f-ffd7-ecdee7dc5302"
      },
      "execution_count": null,
      "outputs": [
        {
          "output_type": "stream",
          "name": "stdout",
          "text": [
            "Skor 75 mendapat predikat: B\n",
            "Skor 48 mendapat predikat: E\n",
            "=====MODIFIKASI=====\n",
            "A\n",
            "B\n",
            "Error: Input harus berupa angka (int/float).\n",
            "Error: Skor harus di antara 0–100.\n"
          ]
        }
      ]
    },
    {
      "cell_type": "code",
      "source": [
        "# SOAL 5: Menghitung Faktorial dengan Loop While\n",
        "def hitung_faktorial(n):\n",
        "    \"\"\"Menghitung faktorial dari bilangan positif n.\"\"\"\n",
        "    hasil = 1\n",
        "\n",
        "    # Perulangan berjalan selama n lebih besar dari 1\n",
        "    while n > 1:\n",
        "        hasil *= n\n",
        "        n -= 1  # Kurangi n\n",
        "\n",
        "    return hasil\n",
        "\n",
        "# Pemanggilan:\n",
        "bilangan_n = 4\n",
        "print(f\"Faktorial dari {bilangan_n} adalah: {hitung_faktorial(bilangan_n)}\")\n",
        "\n",
        "# MODIFIKASI\n",
        "print(\"======MODIFIKASI=====\")\n",
        "def hitung_faktorial(n):\n",
        "    \"\"\"Menghitung faktorial dari bilangan positif n, dengan pengecekan kondisi.\"\"\"\n",
        "    if n < 0:\n",
        "        return \"Error: Faktorial tidak terdefinisi untuk bilangan negatif.\"\n",
        "    elif n == 0:\n",
        "        return 1  # Faktorial dari 0 adalah 1\n",
        "\n",
        "    hasil = 1\n",
        "    while n > 1:\n",
        "        hasil *= n\n",
        "        n -= 1\n",
        "    return hasil\n",
        "\n",
        "\n",
        "# Contoh pemanggilan:\n",
        "print(f\"Faktorial dari 3 adalah: {hitung_faktorial(3)}\")\n",
        "print(f\"Faktorial dari 0 adalah: {hitung_faktorial(0)}\")\n",
        "print(f\"Faktorial dari -2 adalah: {hitung_faktorial(-2)}\")\n"
      ],
      "metadata": {
        "colab": {
          "base_uri": "https://localhost:8080/"
        },
        "id": "vhYIoMs1RF63",
        "outputId": "da82b608-f780-407c-c67f-086c185b1688"
      },
      "execution_count": null,
      "outputs": [
        {
          "output_type": "stream",
          "name": "stdout",
          "text": [
            "Faktorial dari 4 adalah: 24\n",
            "======MODIFIKASI=====\n",
            "Faktorial dari 3 adalah: 6\n",
            "Faktorial dari 0 adalah: 1\n",
            "Faktorial dari -2 adalah: Error: Faktorial tidak terdefinisi untuk bilangan negatif.\n"
          ]
        }
      ]
    },
    {
      "cell_type": "code",
      "source": [
        "# SOAL 6: Analisis Data Suhu Ekstrem (for dan if/elif)\n",
        "def analisis_suhu(data_suhu, batas_panas=35, batas_dingin=15):\n",
        "    \"\"\"Menghitung jumlah hari Panas dan Dingin dari data_suhu.\"\"\"\n",
        "    panas_count = 0\n",
        "    dingin_count = 0\n",
        "\n",
        "    for suhu in data_suhu:\n",
        "        if suhu >= batas_panas:\n",
        "            panas_count += 1\n",
        "        elif suhu <= batas_dingin:\n",
        "            dingin_count += 1\n",
        "\n",
        "    return panas_count, dingin_count\n",
        "\n",
        "# Pemanggilan:\n",
        "suhu_mingguan = [36, 30, 14, 25, 38, 16, 28]\n",
        "jumlah_panas, jumlah_dingin = analisis_suhu(suhu_mingguan)\n",
        "print(f\"Jumlah hari Panas (>=35°C): {jumlah_panas}\")\n",
        "print(f\"Jumlah hari Dingin (<=15°C): {jumlah_dingin}\")"
      ],
      "metadata": {
        "colab": {
          "base_uri": "https://localhost:8080/"
        },
        "id": "uJYlLE1dcF_1",
        "outputId": "c5d3fc5b-3c4c-4992-b91b-c143d102d551"
      },
      "execution_count": null,
      "outputs": [
        {
          "output_type": "stream",
          "name": "stdout",
          "text": [
            "Jumlah hari Panas (>=35°C): 2\n",
            "Jumlah hari Dingin (<=15°C): 1\n"
          ]
        }
      ]
    }
  ]
}